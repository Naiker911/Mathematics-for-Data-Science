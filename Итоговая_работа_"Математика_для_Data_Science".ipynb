{
  "nbformat": 4,
  "nbformat_minor": 0,
  "metadata": {
    "colab": {
      "provenance": [],
      "authorship_tag": "ABX9TyOSRN7NNjiiNCwne+YGDs4T",
      "include_colab_link": true
    },
    "kernelspec": {
      "name": "python3",
      "display_name": "Python 3"
    },
    "language_info": {
      "name": "python"
    }
  },
  "cells": [
    {
      "cell_type": "markdown",
      "metadata": {
        "id": "view-in-github",
        "colab_type": "text"
      },
      "source": [
        "<a href=\"https://colab.research.google.com/github/Naiker911/Mathematics-for-Data-Science/blob/main/%D0%98%D1%82%D0%BE%D0%B3%D0%BE%D0%B2%D0%B0%D1%8F_%D1%80%D0%B0%D0%B1%D0%BE%D1%82%D0%B0_%22%D0%9C%D0%B0%D1%82%D0%B5%D0%BC%D0%B0%D1%82%D0%B8%D0%BA%D0%B0_%D0%B4%D0%BB%D1%8F_Data_Science%22.ipynb\" target=\"_parent\"><img src=\"https://colab.research.google.com/assets/colab-badge.svg\" alt=\"Open In Colab\"/></a>"
      ]
    },
    {
      "cell_type": "code",
      "execution_count": null,
      "metadata": {
        "id": "B8VlvlZKvDgk"
      },
      "outputs": [],
      "source": [
        "import matplotlib.pyplot as plt\n",
        "import numpy as np\n",
        "from sympy import *\n",
        "from scipy.optimize import differential_evolution\n",
        "from scipy.optimize import minimize\n",
        "from scipy.stats import norm\n",
        "from scipy.misc import derivative\n",
        "%matplotlib inline"
      ]
    },
    {
      "cell_type": "markdown",
      "source": [
        "Вычислите производную функции:\n",
        "\n",
        "tg^2*(sin(x)+ cos(2*x+3))\n",
        "\n",
        "в точке X0=1"
      ],
      "metadata": {
        "id": "Rw6fTvjyvMq3"
      }
    },
    {
      "cell_type": "code",
      "source": [
        "def function(x):\n",
        "  return (np.tan(np.sin(x) + np.cos(2*x + 3)))**2\n",
        "\n",
        "derivative(function, 1.0, dx=1e-6)"
      ],
      "metadata": {
        "id": "XdqmDnlKvL1x",
        "colab": {
          "base_uri": "https://localhost:8080/"
        },
        "outputId": "854d63ba-3245-4abc-9ca9-049364b4f7d5"
      },
      "execution_count": null,
      "outputs": [
        {
          "output_type": "stream",
          "name": "stderr",
          "text": [
            "<ipython-input-71-2edc28dc0a2d>:4: DeprecationWarning: scipy.misc.derivative is deprecated in SciPy v1.10.0; and will be completely removed in SciPy v1.12.0. You may consider using findiff: https://github.com/maroba/findiff or numdifftools: https://github.com/pbrod/numdifftools\n",
            "  derivative(function, 1.0, dx=1e-6)\n"
          ]
        },
        {
          "output_type": "execute_result",
          "data": {
            "text/plain": [
              "55.3859176464222"
            ]
          },
          "metadata": {},
          "execution_count": 71
        }
      ]
    },
    {
      "cell_type": "markdown",
      "source": [
        "Задание 2\n",
        "\n",
        "Дан объект в 2D пространстве"
      ],
      "metadata": {
        "id": "5tTmWA9DvoSk"
      }
    },
    {
      "cell_type": "code",
      "source": [
        "import numpy as np\n",
        "import matplotlib.pyplot as plt\n",
        "\n",
        "A = [\n",
        "[-100, -100, 1],\n",
        "[0, 100, 1],\n",
        "[100, -100, 1],\n",
        "[-100, -100, 1]\n",
        "]\n",
        "\n",
        "A = np.array(A)\n",
        "\n",
        "x = A[:,0]\n",
        "y = A[:,1]\n",
        "plt.plot(x, y)\n",
        "plt.ylim([-200, 200])\n",
        "plt.xlim([-200, 200])"
      ],
      "metadata": {
        "colab": {
          "base_uri": "https://localhost:8080/",
          "height": 287
        },
        "id": "8yrJtKtWvr2X",
        "outputId": "14e4ca68-d0a7-40f1-9129-396f3b259cfa"
      },
      "execution_count": null,
      "outputs": [
        {
          "output_type": "execute_result",
          "data": {
            "text/plain": [
              "(-200.0, 200.0)"
            ]
          },
          "metadata": {},
          "execution_count": 58
        },
        {
          "output_type": "display_data",
          "data": {
            "text/plain": [
              "<Figure size 432x288 with 1 Axes>"
            ],
            "image/png": "[encoded data removed]"
          },
          "metadata": {
            "needs_background": "light"
          }
        }
      ]
    },
    {
      "cell_type": "markdown",
      "source": [
        "При помощи матричных операций выполните:\n",
        "\n",
        "Смещение объекта и масштабирование (применить 2 матрицы трансформаций). Смещение на (200, 300) и масштабирование на (0.5, 1.2)"
      ],
      "metadata": {
        "id": "4t-VcVesvySc"
      }
    },
    {
      "cell_type": "code",
      "source": [
        "B = []\n",
        "TransformArray = np.array([[1, 0, 200],[0, 1, 300], [0, 0, 1]])\n",
        "for point in A:\n",
        "  new_point = np.dot(TransformArray,np.transpose(point))\n",
        "  B.append(new_point)\n",
        "B = np.array(B)\n",
        "TransformArray = np.array([[0.5, 0, 0], [0, 1.2, 0], [0, 0, 1]])\n",
        "C = []\n",
        "for point in A:\n",
        "  new_point = np.dot(TransformArray,np.transpose(point))\n",
        "  C.append(new_point)\n",
        "C = np.array(C)\n",
        "x = C[:,0]\n",
        "y = C[:,1]\n",
        "plt.plot(x, y)\n",
        "plt.ylim([-200, 300])\n",
        "plt.xlim([-200, 400])"
      ],
      "metadata": {
        "id": "WI5Vy0p5v2NE",
        "colab": {
          "base_uri": "https://localhost:8080/",
          "height": 287
        },
        "outputId": "0bf42b52-b385-4813-e805-304ed78a3c38"
      },
      "execution_count": null,
      "outputs": [
        {
          "output_type": "execute_result",
          "data": {
            "text/plain": [
              "(-200.0, 400.0)"
            ]
          },
          "metadata": {},
          "execution_count": 93
        },
        {
          "output_type": "display_data",
          "data": {
            "text/plain": [
              "<Figure size 432x288 with 1 Axes>"
            ],
            "image/png": "[encoded data removed]"
          },
          "metadata": {
            "needs_background": "light"
          }
        }
      ]
    },
    {
      "cell_type": "markdown",
      "source": [
        "Задание 3\n",
        "\n",
        "Найдите собственные значения и собственные вектора матрицы:"
      ],
      "metadata": {
        "id": "k477t09av2sj"
      }
    },
    {
      "cell_type": "code",
      "source": [
        "m = np.array([[1, 4],\n",
        "              [1, 1]])\n",
        "print(m)"
      ],
      "metadata": {
        "colab": {
          "base_uri": "https://localhost:8080/"
        },
        "id": "5ZumIcjKv6tz",
        "outputId": "53f651b0-0e37-48ab-f6cf-a78821566f72"
      },
      "execution_count": null,
      "outputs": [
        {
          "output_type": "stream",
          "name": "stdout",
          "text": [
            "[[1 4]\n",
            " [1 1]]\n"
          ]
        }
      ]
    },
    {
      "cell_type": "code",
      "source": [
        "w, v = np.linalg.eig(m)\n",
        "for i in range(len(w)):\n",
        "    print(\"Собственное значение \" + str(w[i]))\n",
        "    print(\"соответствующий ему собственный вектор \" + str(v[i]))"
      ],
      "metadata": {
        "id": "MzZsM1Gxv_Gm",
        "colab": {
          "base_uri": "https://localhost:8080/"
        },
        "outputId": "c16f9bbb-4446-4150-a8bd-3f0f10d14da6"
      },
      "execution_count": null,
      "outputs": [
        {
          "output_type": "stream",
          "name": "stdout",
          "text": [
            "Собственное значение 3.0000000000000004\n",
            "соответствующий ему собственный вектор [ 0.89442719 -0.89442719]\n",
            "Собственное значение -0.9999999999999996\n",
            "соответствующий ему собственный вектор [0.4472136 0.4472136]\n"
          ]
        }
      ]
    },
    {
      "cell_type": "markdown",
      "source": [
        "Задание 4\n",
        "\n",
        "Дана функция с неизвестными параметрами a и b, вам также известны значения функции fx в точках x.\n",
        "\n",
        "Найдите оптимальные параметры a, b, минимизирующие абсолютную ошибку error"
      ],
      "metadata": {
        "id": "MFIaXfQjwEfN"
      }
    },
    {
      "cell_type": "code",
      "source": [
        "def f(x, a, b):\n",
        "    return np.e**a * np.sin(b*x) + x"
      ],
      "metadata": {
        "id": "Ydz5oTNFwFkv"
      },
      "execution_count": null,
      "outputs": []
    },
    {
      "cell_type": "code",
      "source": [
        "x = np.array([0.        , 0.26315789, 0.52631579, 0.78947368, 1.05263158,\n",
        "              1.31578947, 1.57894737, 1.84210526, 2.10526316, 2.36842105,\n",
        "              2.63157895, 2.89473684, 3.15789474, 3.42105263, 3.68421053,\n",
        "              3.94736842, 4.21052632, 4.47368421, 4.73684211, 5.        ])\n",
        "\n",
        "fx = np.array([  0.        , -12.01819092, -18.90968634, -17.68786571,\n",
        "                -8.7529108 ,   4.27524517,  16.06801336,  21.81250213,\n",
        "                19.22059845,   9.48411207,  -3.22273056, -13.48576488,\n",
        "               -16.91096359, -11.95866834,  -0.58630088,  12.56873816,\n",
        "                22.12489421,  24.20292139,  18.04522521,   6.33211092])"
      ],
      "metadata": {
        "id": "zImAuisqwIOn"
      },
      "execution_count": null,
      "outputs": []
    },
    {
      "cell_type": "code",
      "source": [
        "plt.plot(x, fx)\n",
        "plt.show()"
      ],
      "metadata": {
        "id": "6aU932MbwLsb",
        "colab": {
          "base_uri": "https://localhost:8080/",
          "height": 265
        },
        "outputId": "08f86b0b-4450-4bf2-dc81-a32a70a6561e"
      },
      "execution_count": null,
      "outputs": [
        {
          "output_type": "display_data",
          "data": {
            "text/plain": [
              "<Figure size 432x288 with 1 Axes>"
            ],
            "image/png": "[encoded data removed]"
          },
          "metadata": {
            "needs_background": "light"
          }
        }
      ]
    },
    {
      "cell_type": "code",
      "source": [
        "def error(params):\n",
        "    return np.sum(np.abs(fx - f(x, params[0], params[1])))"
      ],
      "metadata": {
        "id": "F10XixojwPQc"
      },
      "execution_count": null,
      "outputs": []
    },
    {
      "cell_type": "code",
      "source": [
        "params = [2, -2]\n",
        "\n",
        "res = minimize(error, params, method='nelder-mead', options={'xtol': 1e-6, 'disp': True})\n",
        "\n",
        "res.x"
      ],
      "metadata": {
        "id": "vYjvEolCwRvs",
        "colab": {
          "base_uri": "https://localhost:8080/"
        },
        "outputId": "d543c495-b0f6-44fc-bf3c-6f795c84d12d"
      },
      "execution_count": null,
      "outputs": [
        {
          "output_type": "stream",
          "name": "stdout",
          "text": [
            "Optimization terminated successfully.\n",
            "         Current function value: 0.000106\n",
            "         Iterations: 57\n",
            "         Function evaluations: 108\n"
          ]
        },
        {
          "output_type": "stream",
          "name": "stderr",
          "text": [
            "<ipython-input-66-06187b6503d8>:3: OptimizeWarning: Unknown solver options: xtol\n",
            "  res = minimize(error, params, method='nelder-mead', options={'xtol': 1e-6, 'disp': True})\n"
          ]
        },
        {
          "output_type": "execute_result",
          "data": {
            "text/plain": [
              "array([ 3.00000022, -2.50000014])"
            ]
          },
          "metadata": {},
          "execution_count": 66
        }
      ]
    },
    {
      "cell_type": "markdown",
      "source": [
        "Задание 5\n",
        "\n",
        "Дана матрица рейтингов фильмов (строки - пользователи (10 человек), столбцы - фильмы (15 фильмов))"
      ],
      "metadata": {
        "id": "Mk1jgUPMwSCT"
      }
    },
    {
      "cell_type": "code",
      "source": [
        "raitings = np.array([[ 4,  4,  9,  4,  1,  6, 10,  7,  9,  6,  9,  2,  8,  6,  6],\n",
        "                     [ 9,  2,  5, 10,  7,  8, 10,  5,  6,  2,  1,  6,  8,  9,  7],\n",
        "                     [ 1,  6,  8,  8,  4,  9,  3,  8, 10,  5,  2,  6,  8,  1,  6],\n",
        "                     [ 6,  1,  9,  7,  7,  9,  2,  3,  5,  1,  6,  6,  3,  2,  7],\n",
        "                     [ 3,  7,  3,  5,  7,  9,  9,  6,  2,  9,  1,  2,  8, 10,  6],\n",
        "                     [ 8,  3,  7,  3,  8,  6,  1,  8,  8,  6,  1,  9,  4, 10,  1],\n",
        "                     [ 9,  8,  4,  8,  8, 10,  6,  1,  1,  2,  9,  5,  2,  7,  2],\n",
        "                     [ 4,  1,  6,  4,  3, 10,  4,  4,  2,  8,  7,  9,  3,  8,  3],\n",
        "                     [ 2,  7,  7,  6, 10,  6,  8,  9,  8,  6, 10,  1,  7, 10,  4],\n",
        "                     [ 5, 10,  8,  8,  9,  7,  2,  9,  9, 10,  8,  8,  8,  6, 10]])"
      ],
      "metadata": {
        "id": "0nxooADfwVZ1"
      },
      "execution_count": null,
      "outputs": []
    },
    {
      "cell_type": "markdown",
      "source": [
        "Необходимо найти наиболее похожего пользователя по косинусной метрике для каждого из пользователей (ответ: 10 пар вида (x, y), где y - наиболее похожий пользователь на пользователя x)."
      ],
      "metadata": {
        "id": "0RL0xBo7wYp0"
      }
    },
    {
      "cell_type": "code",
      "source": [
        "for i in range(0, 10):\n",
        "    sim = 0\n",
        "    for j in range(0, 10):\n",
        "        if i != j:\n",
        "            x1 = raitings[i]\n",
        "            x2 = raitings[j]\n",
        "\n",
        "            coss = np.dot(x1, x2) / (np.linalg.norm(x1) * np.linalg.norm(x2))\n",
        "\n",
        "            if coss > sim:\n",
        "                sim = coss\n",
        "                user = j + 1\n",
        "\n",
        "#     print(f'На {i+1} пользователя больше всего похож пользователь {user}')\n",
        "    print(f'({i+1}, {user})')"
      ],
      "metadata": {
        "id": "Lq7Ep4ppwdPc",
        "colab": {
          "base_uri": "https://localhost:8080/"
        },
        "outputId": "05bcef0d-3031-4573-89fb-e36aafe828af"
      },
      "execution_count": null,
      "outputs": [
        {
          "output_type": "stream",
          "name": "stdout",
          "text": [
            "(1, 9)\n",
            "(2, 5)\n",
            "(3, 10)\n",
            "(4, 10)\n",
            "(5, 9)\n",
            "(6, 10)\n",
            "(7, 4)\n",
            "(8, 6)\n",
            "(9, 1)\n",
            "(10, 3)\n"
          ]
        }
      ]
    }
  ]
}